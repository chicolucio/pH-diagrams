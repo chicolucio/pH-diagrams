{
 "cells": [
  {
   "cell_type": "markdown",
   "metadata": {
    "colab_type": "text",
    "id": "view-in-github",
    "pycharm": {
     "name": "#%% md\n"
    }
   },
   "source": [
    "<a href=\"https://colab.research.google.com/github/chicolucio/pH-diagrams/blob/master/notebooks/tutorial_interativo_PT_BR.ipynb\" target=\"_parent\"><img src=\"https://colab.research.google.com/assets/colab-badge.svg\" alt=\"Open In Colab\"/></a>"
   ]
  },
  {
   "cell_type": "markdown",
   "metadata": {
    "id": "ajkGn4pMnNjI",
    "pycharm": {
     "name": "#%% md\n"
    }
   },
   "source": [
    "# **Tutorial Interativo**\n",
    "\n",
    "O programa `ph_diagram` juntamente com o pacote [ipywidgets](https://ipywidgets.readthedocs.io/en/latest/) tem a possibilidade de elaborar gráficos interarivos, a fim de contribuir para a compreensão dos diagramas de pH. Dessa forma, com esta junção, conseguimos observar as espécies predominantes em determinado $pH$ dados os $pK_a$ de um ácido.\n",
    "\n",
    "Importante que o usuário leia o [tutorial básico](https://colab.research.google.com/github/chicolucio/pH-diagrams/blob/master/tutorial.ipynb) para entendimento a respeito da parte teórica. Neste tutorial, veremos os gráficos interativos na prática."
   ]
  },
  {
   "cell_type": "markdown",
   "metadata": {
    "id": "OkQhS56f0cbS",
    "pycharm": {
     "name": "#%% md\n"
    }
   },
   "source": [
    "Primeiramente, vamos importar todos os pacotes necessários:"
   ]
  },
  {
   "cell_type": "code",
   "execution_count": 1,
   "metadata": {
    "id": "XjCAnPRMhccq",
    "pycharm": {
     "name": "#%%\n"
    }
   },
   "outputs": [],
   "source": [
    "# uncomment the following lines if in Google Colab\n",
    "# !git clone https://github.com/chicolucio/pH-diagrams &> /dev/null\n",
    "# %cd -q pH-diagrams\n",
    "# !pip install --upgrade --force-reinstall -r requirements.txt -q &> /dev/null\n",
    "\n",
    "from ipywidgets import interactive, fixed, FloatSlider\n",
    "from IPython.display import display\n",
    "\n",
    "import matplotlib.pyplot as plt\n",
    "\n",
    "from ph_diagrams import Acid"
   ]
  },
  {
   "cell_type": "markdown",
   "metadata": {
    "id": "NJtTYDob0kZT",
    "pycharm": {
     "name": "#%% md\n"
    }
   },
   "source": [
    "# **Barras deslizantes (sliders)**\n",
    "\n",
    "Slider pode ser definido como um widget que varia no limite estabelecido. Vamos exemplificar:"
   ]
  },
  {
   "cell_type": "code",
   "execution_count": 2,
   "metadata": {
    "colab": {
     "base_uri": "https://localhost:8080/",
     "height": 49,
     "referenced_widgets": [
      "fad0f40fc5284aec84adb2c856732e87",
      "9ef3602880a940248e53e247c5591e28",
      "1f31f69b603f4db9be48465e105d8999"
     ]
    },
    "id": "TdWhdHsM2LFZ",
    "outputId": "d2c4b855-1476-4cd7-c4c5-4309edfe632a",
    "pycharm": {
     "name": "#%%\n"
    }
   },
   "outputs": [
    {
     "data": {
      "application/vnd.jupyter.widget-view+json": {
       "model_id": "9f57db8e0db748508c0ae9d9c6a0d0c1",
       "version_major": 2,
       "version_minor": 0
      },
      "text/plain": [
       "FloatSlider(value=0.0)"
      ]
     },
     "metadata": {},
     "output_type": "display_data"
    }
   ],
   "source": [
    "FloatSlider()"
   ]
  },
  {
   "cell_type": "markdown",
   "metadata": {
    "id": "sPAKL0N82OUy",
    "pycharm": {
     "name": "#%% md\n"
    }
   },
   "source": [
    "Quando nenhum valor for passado, por padrão, o limite será de 0 a 100. Podemos associar o widget a um objeto e apenas apresentá-lo quando solicitado utilizando o método `display` do IPython:"
   ]
  },
  {
   "cell_type": "code",
   "execution_count": 3,
   "metadata": {
    "colab": {
     "base_uri": "https://localhost:8080/",
     "height": 49,
     "referenced_widgets": [
      "f50ee86fd41e4f6d8102b78b7780e11e",
      "e268a3fa8517413294b6575443a321ad",
      "fb716aed66e049488ad3bef2857c7e85"
     ]
    },
    "id": "I7IGbNzj2xR9",
    "outputId": "6ebd01a0-ca1c-4afd-ccad-1e48acd42a33",
    "pycharm": {
     "name": "#%%\n"
    }
   },
   "outputs": [
    {
     "data": {
      "application/vnd.jupyter.widget-view+json": {
       "model_id": "db703ea035a045c0bb899f7795f67ff8",
       "version_major": 2,
       "version_minor": 0
      },
      "text/plain": [
       "FloatSlider(value=0.0)"
      ]
     },
     "metadata": {},
     "output_type": "display_data"
    }
   ],
   "source": [
    "objeto = FloatSlider()\n",
    "display(objeto)"
   ]
  },
  {
   "cell_type": "markdown",
   "metadata": {
    "id": "-_LmwD013ALb",
    "pycharm": {
     "name": "#%% md\n"
    }
   },
   "source": [
    "Os widgets são simples e práticos, entretanto demandam personalização para  uso no contexto que desejamos. [Aqui](https://ipywidgets.readthedocs.io/en/latest/examples/Widget%20List.html?highlight=floatslider) podemos conferir todos os parâmetros que podem ser personalizados. Utilizando o $pK_a$ como exemplo:"
   ]
  },
  {
   "cell_type": "code",
   "execution_count": 4,
   "metadata": {
    "colab": {
     "base_uri": "https://localhost:8080/",
     "height": 49,
     "referenced_widgets": [
      "feb229b55f014eb5a5c2fda8b9e7779b",
      "cdb767affca745c7a6f06606ba7ce35d",
      "9f9ac06ca0b14de6b21330d7c21a76c8"
     ]
    },
    "id": "AQBjEZJR3aqm",
    "outputId": "a1f95d86-12f9-4d2e-acc6-a2139f8884f9",
    "pycharm": {
     "name": "#%%\n"
    }
   },
   "outputs": [
    {
     "data": {
      "application/vnd.jupyter.widget-view+json": {
       "model_id": "451adc2ab61b40d49db1e7567adb6b24",
       "version_major": 2,
       "version_minor": 0
      },
      "text/plain": [
       "FloatSlider(value=0.0, continuous_update=False, description='pKa', max=14.0, step=0.5, style=SliderStyle(descr…"
      ]
     },
     "metadata": {},
     "output_type": "display_data"
    }
   ],
   "source": [
    "style = {'description_width': 'initial'}\n",
    "\n",
    "pKa = FloatSlider(\n",
    "    value=0,\n",
    "    min=0,\n",
    "    max=14,\n",
    "    step=0.5,\n",
    "    description='pKa',\n",
    "    disabled=False,\n",
    "    continuous_update=False,\n",
    "    orientation='horizontal',\n",
    "    readout=True,\n",
    "    readout_format='.2f',\n",
    "    style=style)\n",
    "\n",
    "display(pKa)"
   ]
  },
  {
   "cell_type": "markdown",
   "metadata": {
    "id": "-ACsSSQ93pGZ",
    "pycharm": {
     "name": "#%% md\n"
    }
   },
   "source": [
    "Um pouco mais a respeito dos parâmetros utilizados neste tutorial:\n",
    "\n",
    "`value`: valor inicial do slider\n",
    "\n",
    "`min e max`: valores dos limites mínimo e máximo\n",
    "\n",
    "`step`: unidade que terá que deslocar até o próximo ponto\n",
    "\n",
    "`description`: descrição do slider\n",
    "\n",
    "`disabled`: desativa o slider. Se o parâmetro for passado como True, o slider não se moverá, ficando apenas no valor inicial.\n",
    "\n",
    "`orientation`: orientação do slider (horizontal ou vertical)\n",
    "\n",
    "`readout`: exibe o valor atual do slider. Se for False não exibirá nada\n",
    "\n",
    "`readout_format`: formato usado para representar o valor atual do slider"
   ]
  },
  {
   "cell_type": "markdown",
   "metadata": {
    "id": "pOSiNny54mgf",
    "pycharm": {
     "name": "#%% md\n"
    }
   },
   "source": [
    "Como podemos ver, o pacote `ipywidgets` consegue criar diversos tipos de interações. A partir deste momento, vamos conferir tais interações nos diagramas."
   ]
  },
  {
   "cell_type": "markdown",
   "metadata": {
    "id": "w31Oy7_G5EB8",
    "pycharm": {
     "name": "#%% md\n"
    }
   },
   "source": [
    "# **Gráficos Interativos**\n",
    "\n",
    "Os widgets são utilizados em nossos gráficos para controlar os valores de $pK_a$ para espécies distintas. Assim, conseguiremos entender a relação existente com o $pH$ e como o diagrama se comporta a medida que os valores de $pK_a$ são alterados.\n",
    "\n",
    "Vamos aos exemplos:"
   ]
  },
  {
   "cell_type": "code",
   "execution_count": 5,
   "metadata": {
    "id": "XhCghFPxOvTt",
    "pycharm": {
     "name": "#%%\n"
    }
   },
   "outputs": [],
   "source": [
    "style = {'description_width': 'initial'}\n",
    "\n",
    "pKa1 = FloatSlider(\n",
    "    value=1,\n",
    "    min=0,\n",
    "    max=14,\n",
    "    step=0.5,\n",
    "    description='pKa1',\n",
    "    disabled=False,\n",
    "    continuous_update=False,\n",
    "    orientation='horizontal',\n",
    "    readout=True,\n",
    "    readout_format='.2f',\n",
    "    style=style)\n",
    "\n",
    "pKa2 = FloatSlider(\n",
    "    value=0,\n",
    "    min=0,\n",
    "    max=14,\n",
    "    step=0.5,\n",
    "    description='pKa2',\n",
    "    disabled=False,\n",
    "    continuous_update=False,\n",
    "    orientation='horizontal',\n",
    "    readout=True,\n",
    "    readout_format='.2f',\n",
    "    style=style)\n",
    "\n",
    "pKa3 = FloatSlider(\n",
    "    value=0,\n",
    "    min=0,\n",
    "    max=14,\n",
    "    step=0.5,\n",
    "    description='pKa3',\n",
    "    disabled=False,\n",
    "    continuous_update=False,\n",
    "    orientation='horizontal',\n",
    "    readout=True,\n",
    "    readout_format='.2f',\n",
    "    style=style)\n"
   ]
  },
  {
   "cell_type": "markdown",
   "metadata": {
    "id": "KOeBldUt58C-",
    "pycharm": {
     "name": "#%% md\n"
    }
   },
   "source": [
    "Até aqui estabelecemos os parâmetros necessários para três $pK_a$. Agora, vamos criar uma função para receber estas informações"
   ]
  },
  {
   "cell_type": "code",
   "execution_count": 6,
   "metadata": {
    "colab": {
     "base_uri": "https://localhost:8080/",
     "height": 409,
     "referenced_widgets": [
      "8375d4367e15417093c2d5a35ee1950b",
      "ab4c376ef41846f7acdd70bb47ad521d",
      "c32c7d8e89d14eb1a4e35a8ee93e54b1",
      "bfa24e2b7c704397adcc8c27349764e3",
      "b853389df8ee481bb795cda4283da5ca",
      "9d41deef382d4e36aec21ab6cda3c8aa",
      "03782fac005c435eb998c8637c0ad432",
      "08584be43d474ec2977cf66ff84ebd2e",
      "026857eac8b041bf9830d657ee9a7a46",
      "58acb71eb2a64fa88a51237609d218c3",
      "d69b43b1798a4c29a188e91e27e249ea",
      "358df6f5708d4eedafe8e369f5f97d14",
      "fa489b707fad49f2887b676c1517e3de"
     ]
    },
    "id": "bNsPKqdfmp9U",
    "outputId": "35d04237-b73f-4c41-9524-cfecf34d1b19",
    "pycharm": {
     "name": "#%%\n"
    }
   },
   "outputs": [
    {
     "data": {
      "application/vnd.jupyter.widget-view+json": {
       "model_id": "c2e77e9f6a964843b7314566797ba522",
       "version_major": 2,
       "version_minor": 0
      },
      "text/plain": [
       "interactive(children=(FloatSlider(value=1.0, continuous_update=False, description='pKa1', max=14.0, step=0.5, …"
      ]
     },
     "metadata": {},
     "output_type": "display_data"
    }
   ],
   "source": [
    "\n",
    "def plot_interactive_alpha(pKa1=1, pKa2=0, pKa3=0, conc=0.1):\n",
    "    from src.helpers import valid_pka_values\n",
    "\n",
    "    instance = Acid(tuple(valid_pka_values((pKa1, pKa2, pKa3))), acid_concentration=conc)\n",
    "    instance.plot()\n",
    "\n",
    "\n",
    "graph = interactive(plot_interactive_alpha,\n",
    "                    conc=fixed(0.1),\n",
    "                    pKa1=pKa1,\n",
    "                    pKa2=pKa2,\n",
    "                    pKa3=pKa3,\n",
    "                    )\n",
    "\n",
    "display(graph)"
   ]
  },
  {
   "cell_type": "markdown",
   "metadata": {
    "id": "H9jCBAhg6b5Q",
    "pycharm": {
     "name": "#%% md\n"
    }
   },
   "source": [
    "O resultado acima trata-se de um diagrama de espécies no qual podemos observar as áreas das espécies predominantes enquanto deslizamos as barras de $pK_a$. Importante ressaltar que, para fins didáticos, o valor zero nos sliders significa que estão desligados.\n",
    "\n",
    "O mesmo pode ser feito para obter o diagrama de $\\log C$:"
   ]
  },
  {
   "cell_type": "code",
   "execution_count": 7,
   "metadata": {
    "colab": {
     "base_uri": "https://localhost:8080/",
     "height": 409,
     "referenced_widgets": [
      "678241aecba64192966db079f87fe0f4",
      "ccc980aa4c8b44c58c09b89ad7a2852c",
      "c32c7d8e89d14eb1a4e35a8ee93e54b1",
      "bfa24e2b7c704397adcc8c27349764e3",
      "b853389df8ee481bb795cda4283da5ca",
      "0ade3266f35f44e1929a09f5a6afa20c",
      "03782fac005c435eb998c8637c0ad432",
      "08584be43d474ec2977cf66ff84ebd2e",
      "026857eac8b041bf9830d657ee9a7a46",
      "58acb71eb2a64fa88a51237609d218c3",
      "d69b43b1798a4c29a188e91e27e249ea",
      "358df6f5708d4eedafe8e369f5f97d14",
      "281f3fe50fad4b9c80c85c773874adb4"
     ]
    },
    "id": "yh8CblTwtvvD",
    "outputId": "45e34732-0aae-4e25-b0ae-ca7ed48b1ead",
    "pycharm": {
     "name": "#%%\n"
    }
   },
   "outputs": [
    {
     "data": {
      "application/vnd.jupyter.widget-view+json": {
       "model_id": "ca85eeb67f9644c4b9459f4ed12085b2",
       "version_major": 2,
       "version_minor": 0
      },
      "text/plain": [
       "interactive(children=(FloatSlider(value=1.0, continuous_update=False, description='pKa1', max=14.0, step=0.5, …"
      ]
     },
     "metadata": {},
     "output_type": "display_data"
    }
   ],
   "source": [
    "def plot_interactive_pC(pKa1=0, pKa2=0, pKa3=0, conc=0.1):\n",
    "    from src.helpers import valid_pka_values\n",
    "\n",
    "    instance = Acid(tuple(valid_pka_values((pKa1, pKa2, pKa3))), acid_concentration=conc)\n",
    "    instance.plot(plot_type='pC')\n",
    "\n",
    "\n",
    "graph = interactive(plot_interactive_pC,\n",
    "                    conc=fixed(0.1),\n",
    "                    pKa1=pKa1,\n",
    "                    pKa2=pKa2,\n",
    "                    pKa3=pKa3,\n",
    "                    )\n",
    "\n",
    "display(graph)"
   ]
  },
  {
   "cell_type": "markdown",
   "metadata": {
    "id": "HUsdcShNYYFt",
    "pycharm": {
     "name": "#%% md\n"
    }
   },
   "source": [
    "Com o `matplotlib`existe a possibilidade de colocarmos dois gráficos lado a lado para melhor visualização e comparação. Para isso, é necessário a criação de gráficos como sistema de eixos. Dessa forma, a função `plot` retornará o sistema de eixos na mesma figura."
   ]
  },
  {
   "cell_type": "code",
   "execution_count": 8,
   "metadata": {
    "colab": {
     "base_uri": "https://localhost:8080/",
     "height": 540,
     "referenced_widgets": [
      "5f33930cb9e647d7a5773e94df89156a",
      "9385a419dd7c4cb6b5ca291232223180",
      "c32c7d8e89d14eb1a4e35a8ee93e54b1",
      "bfa24e2b7c704397adcc8c27349764e3",
      "b853389df8ee481bb795cda4283da5ca",
      "62d6e9887b3e46758dfd48465d201ad0",
      "03782fac005c435eb998c8637c0ad432",
      "08584be43d474ec2977cf66ff84ebd2e",
      "026857eac8b041bf9830d657ee9a7a46",
      "58acb71eb2a64fa88a51237609d218c3",
      "d69b43b1798a4c29a188e91e27e249ea",
      "358df6f5708d4eedafe8e369f5f97d14",
      "bd0056691ca0434398f8156db36234fa"
     ]
    },
    "id": "axMv-IlTUVuQ",
    "outputId": "a4206472-bbf5-460e-e5d3-38898d5451f7",
    "pycharm": {
     "name": "#%%\n"
    }
   },
   "outputs": [
    {
     "data": {
      "application/vnd.jupyter.widget-view+json": {
       "model_id": "576a9139ec5d4778bcb28108c7973be9",
       "version_major": 2,
       "version_minor": 0
      },
      "text/plain": [
       "interactive(children=(FloatSlider(value=1.0, continuous_update=False, description='pKa1', max=14.0, step=0.5, …"
      ]
     },
     "metadata": {},
     "output_type": "display_data"
    }
   ],
   "source": [
    "def plot_interactive_both(pKa1=1, pKa2=0, pKa3=0, conc=0.1):\n",
    "    from src.helpers import valid_pka_values\n",
    "\n",
    "    instance = Acid(tuple(valid_pka_values((pKa1, pKa2, pKa3))), acid_concentration=conc)\n",
    "\n",
    "    # criando uma figura com dois sistemas de eixo\n",
    "    fig, (ax1, ax2) = plt.subplots(nrows=1, ncols=2, figsize=(14, 6),\n",
    "                                   facecolor=(1, 1, 1))  \n",
    "    instance.plot(ax=ax1, plot_type='distribution', legend=False)\n",
    "    instance.plot(ax=ax2, plot_type='pC', legend=False)\n",
    "\n",
    "    handles, labels = ax2.get_legend_handles_labels()\n",
    "    \n",
    "    # criando uma única legenda\n",
    "    fig.legend(loc='upper center', ncol=8,           \n",
    "               handles=handles, labels=labels, fontsize=16,\n",
    "               bbox_to_anchor=(0.5, 1.0))\n",
    "\n",
    "    plt.tight_layout(rect=[0, 0, 1, 0.95])\n",
    "\n",
    "graph = interactive(plot_interactive_both,\n",
    "                    conc=fixed(0.1),\n",
    "                    pKa1=pKa1,\n",
    "                    pKa2=pKa2,\n",
    "                    pKa3=pKa3,\n",
    "                    )\n",
    "\n",
    "display(graph)"
   ]
  }
 ],
 "metadata": {
  "colab": {
   "collapsed_sections": [],
   "include_colab_link": true,
   "name": "tutorial_interativo.ipynb",
   "provenance": []
  },
  "kernelspec": {
   "display_name": "pHdiagrams",
   "language": "python",
   "name": "phdiagrams"
  },
  "language_info": {
   "codemirror_mode": {
    "name": "ipython",
    "version": 3
   },
   "file_extension": ".py",
   "mimetype": "text/x-python",
   "name": "python",
   "nbconvert_exporter": "python",
   "pygments_lexer": "ipython3",
   "version": "3.10.2"
  },
  "widgets": {
   "application/vnd.jupyter.widget-state+json": {
    "026857eac8b041bf9830d657ee9a7a46": {
     "model_module": "@jupyter-widgets/controls",
     "model_module_version": "1.5.0",
     "model_name": "SliderStyleModel",
     "state": {
      "_model_module": "@jupyter-widgets/controls",
      "_model_module_version": "1.5.0",
      "_model_name": "SliderStyleModel",
      "_view_count": null,
      "_view_module": "@jupyter-widgets/base",
      "_view_module_version": "1.2.0",
      "_view_name": "StyleView",
      "description_width": "initial",
      "handle_color": null
     }
    },
    "03782fac005c435eb998c8637c0ad432": {
     "model_module": "@jupyter-widgets/controls",
     "model_module_version": "1.5.0",
     "model_name": "SliderStyleModel",
     "state": {
      "_model_module": "@jupyter-widgets/controls",
      "_model_module_version": "1.5.0",
      "_model_name": "SliderStyleModel",
      "_view_count": null,
      "_view_module": "@jupyter-widgets/base",
      "_view_module_version": "1.2.0",
      "_view_name": "StyleView",
      "description_width": "initial",
      "handle_color": null
     }
    },
    "08584be43d474ec2977cf66ff84ebd2e": {
     "model_module": "@jupyter-widgets/base",
     "model_module_version": "1.2.0",
     "model_name": "LayoutModel",
     "state": {
      "_model_module": "@jupyter-widgets/base",
      "_model_module_version": "1.2.0",
      "_model_name": "LayoutModel",
      "_view_count": null,
      "_view_module": "@jupyter-widgets/base",
      "_view_module_version": "1.2.0",
      "_view_name": "LayoutView",
      "align_content": null,
      "align_items": null,
      "align_self": null,
      "border": null,
      "bottom": null,
      "display": null,
      "flex": null,
      "flex_flow": null,
      "grid_area": null,
      "grid_auto_columns": null,
      "grid_auto_flow": null,
      "grid_auto_rows": null,
      "grid_column": null,
      "grid_gap": null,
      "grid_row": null,
      "grid_template_areas": null,
      "grid_template_columns": null,
      "grid_template_rows": null,
      "height": null,
      "justify_content": null,
      "justify_items": null,
      "left": null,
      "margin": null,
      "max_height": null,
      "max_width": null,
      "min_height": null,
      "min_width": null,
      "object_fit": null,
      "object_position": null,
      "order": null,
      "overflow": null,
      "overflow_x": null,
      "overflow_y": null,
      "padding": null,
      "right": null,
      "top": null,
      "visibility": null,
      "width": null
     }
    },
    "0ade3266f35f44e1929a09f5a6afa20c": {
     "model_module": "@jupyter-widgets/output",
     "model_module_version": "1.0.0",
     "model_name": "OutputModel",
     "state": {
      "_dom_classes": [],
      "_model_module": "@jupyter-widgets/output",
      "_model_module_version": "1.0.0",
      "_model_name": "OutputModel",
      "_view_count": null,
      "_view_module": "@jupyter-widgets/output",
      "_view_module_version": "1.0.0",
      "_view_name": "OutputView",
      "layout": "IPY_MODEL_281f3fe50fad4b9c80c85c773874adb4",
      "msg_id": "",
      "outputs": [
       {
        "data": {
         "image/png": "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\n",
         "text/plain": "<Figure size 432x288 with 1 Axes>"
        },
        "metadata": {},
        "output_type": "display_data"
       }
      ]
     }
    },
    "1f31f69b603f4db9be48465e105d8999": {
     "model_module": "@jupyter-widgets/base",
     "model_module_version": "1.2.0",
     "model_name": "LayoutModel",
     "state": {
      "_model_module": "@jupyter-widgets/base",
      "_model_module_version": "1.2.0",
      "_model_name": "LayoutModel",
      "_view_count": null,
      "_view_module": "@jupyter-widgets/base",
      "_view_module_version": "1.2.0",
      "_view_name": "LayoutView",
      "align_content": null,
      "align_items": null,
      "align_self": null,
      "border": null,
      "bottom": null,
      "display": null,
      "flex": null,
      "flex_flow": null,
      "grid_area": null,
      "grid_auto_columns": null,
      "grid_auto_flow": null,
      "grid_auto_rows": null,
      "grid_column": null,
      "grid_gap": null,
      "grid_row": null,
      "grid_template_areas": null,
      "grid_template_columns": null,
      "grid_template_rows": null,
      "height": null,
      "justify_content": null,
      "justify_items": null,
      "left": null,
      "margin": null,
      "max_height": null,
      "max_width": null,
      "min_height": null,
      "min_width": null,
      "object_fit": null,
      "object_position": null,
      "order": null,
      "overflow": null,
      "overflow_x": null,
      "overflow_y": null,
      "padding": null,
      "right": null,
      "top": null,
      "visibility": null,
      "width": null
     }
    },
    "281f3fe50fad4b9c80c85c773874adb4": {
     "model_module": "@jupyter-widgets/base",
     "model_module_version": "1.2.0",
     "model_name": "LayoutModel",
     "state": {
      "_model_module": "@jupyter-widgets/base",
      "_model_module_version": "1.2.0",
      "_model_name": "LayoutModel",
      "_view_count": null,
      "_view_module": "@jupyter-widgets/base",
      "_view_module_version": "1.2.0",
      "_view_name": "LayoutView",
      "align_content": null,
      "align_items": null,
      "align_self": null,
      "border": null,
      "bottom": null,
      "display": null,
      "flex": null,
      "flex_flow": null,
      "grid_area": null,
      "grid_auto_columns": null,
      "grid_auto_flow": null,
      "grid_auto_rows": null,
      "grid_column": null,
      "grid_gap": null,
      "grid_row": null,
      "grid_template_areas": null,
      "grid_template_columns": null,
      "grid_template_rows": null,
      "height": null,
      "justify_content": null,
      "justify_items": null,
      "left": null,
      "margin": null,
      "max_height": null,
      "max_width": null,
      "min_height": null,
      "min_width": null,
      "object_fit": null,
      "object_position": null,
      "order": null,
      "overflow": null,
      "overflow_x": null,
      "overflow_y": null,
      "padding": null,
      "right": null,
      "top": null,
      "visibility": null,
      "width": null
     }
    },
    "358df6f5708d4eedafe8e369f5f97d14": {
     "model_module": "@jupyter-widgets/base",
     "model_module_version": "1.2.0",
     "model_name": "LayoutModel",
     "state": {
      "_model_module": "@jupyter-widgets/base",
      "_model_module_version": "1.2.0",
      "_model_name": "LayoutModel",
      "_view_count": null,
      "_view_module": "@jupyter-widgets/base",
      "_view_module_version": "1.2.0",
      "_view_name": "LayoutView",
      "align_content": null,
      "align_items": null,
      "align_self": null,
      "border": null,
      "bottom": null,
      "display": null,
      "flex": null,
      "flex_flow": null,
      "grid_area": null,
      "grid_auto_columns": null,
      "grid_auto_flow": null,
      "grid_auto_rows": null,
      "grid_column": null,
      "grid_gap": null,
      "grid_row": null,
      "grid_template_areas": null,
      "grid_template_columns": null,
      "grid_template_rows": null,
      "height": null,
      "justify_content": null,
      "justify_items": null,
      "left": null,
      "margin": null,
      "max_height": null,
      "max_width": null,
      "min_height": null,
      "min_width": null,
      "object_fit": null,
      "object_position": null,
      "order": null,
      "overflow": null,
      "overflow_x": null,
      "overflow_y": null,
      "padding": null,
      "right": null,
      "top": null,
      "visibility": null,
      "width": null
     }
    },
    "58acb71eb2a64fa88a51237609d218c3": {
     "model_module": "@jupyter-widgets/base",
     "model_module_version": "1.2.0",
     "model_name": "LayoutModel",
     "state": {
      "_model_module": "@jupyter-widgets/base",
      "_model_module_version": "1.2.0",
      "_model_name": "LayoutModel",
      "_view_count": null,
      "_view_module": "@jupyter-widgets/base",
      "_view_module_version": "1.2.0",
      "_view_name": "LayoutView",
      "align_content": null,
      "align_items": null,
      "align_self": null,
      "border": null,
      "bottom": null,
      "display": null,
      "flex": null,
      "flex_flow": null,
      "grid_area": null,
      "grid_auto_columns": null,
      "grid_auto_flow": null,
      "grid_auto_rows": null,
      "grid_column": null,
      "grid_gap": null,
      "grid_row": null,
      "grid_template_areas": null,
      "grid_template_columns": null,
      "grid_template_rows": null,
      "height": null,
      "justify_content": null,
      "justify_items": null,
      "left": null,
      "margin": null,
      "max_height": null,
      "max_width": null,
      "min_height": null,
      "min_width": null,
      "object_fit": null,
      "object_position": null,
      "order": null,
      "overflow": null,
      "overflow_x": null,
      "overflow_y": null,
      "padding": null,
      "right": null,
      "top": null,
      "visibility": null,
      "width": null
     }
    },
    "5f33930cb9e647d7a5773e94df89156a": {
     "model_module": "@jupyter-widgets/controls",
     "model_module_version": "1.5.0",
     "model_name": "VBoxModel",
     "state": {
      "_dom_classes": [
       "widget-interact"
      ],
      "_model_module": "@jupyter-widgets/controls",
      "_model_module_version": "1.5.0",
      "_model_name": "VBoxModel",
      "_view_count": null,
      "_view_module": "@jupyter-widgets/controls",
      "_view_module_version": "1.5.0",
      "_view_name": "VBoxView",
      "box_style": "",
      "children": [
       "IPY_MODEL_c32c7d8e89d14eb1a4e35a8ee93e54b1",
       "IPY_MODEL_bfa24e2b7c704397adcc8c27349764e3",
       "IPY_MODEL_b853389df8ee481bb795cda4283da5ca",
       "IPY_MODEL_62d6e9887b3e46758dfd48465d201ad0"
      ],
      "layout": "IPY_MODEL_9385a419dd7c4cb6b5ca291232223180"
     }
    },
    "62d6e9887b3e46758dfd48465d201ad0": {
     "model_module": "@jupyter-widgets/output",
     "model_module_version": "1.0.0",
     "model_name": "OutputModel",
     "state": {
      "_dom_classes": [],
      "_model_module": "@jupyter-widgets/output",
      "_model_module_version": "1.0.0",
      "_model_name": "OutputModel",
      "_view_count": null,
      "_view_module": "@jupyter-widgets/output",
      "_view_module_version": "1.0.0",
      "_view_name": "OutputView",
      "layout": "IPY_MODEL_bd0056691ca0434398f8156db36234fa",
      "msg_id": "",
      "outputs": [
       {
        "data": {
         "image/png": "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\n",
         "text/plain": "<Figure size 1008x432 with 2 Axes>"
        },
        "metadata": {},
        "output_type": "display_data"
       }
      ]
     }
    },
    "678241aecba64192966db079f87fe0f4": {
     "model_module": "@jupyter-widgets/controls",
     "model_module_version": "1.5.0",
     "model_name": "VBoxModel",
     "state": {
      "_dom_classes": [
       "widget-interact"
      ],
      "_model_module": "@jupyter-widgets/controls",
      "_model_module_version": "1.5.0",
      "_model_name": "VBoxModel",
      "_view_count": null,
      "_view_module": "@jupyter-widgets/controls",
      "_view_module_version": "1.5.0",
      "_view_name": "VBoxView",
      "box_style": "",
      "children": [
       "IPY_MODEL_c32c7d8e89d14eb1a4e35a8ee93e54b1",
       "IPY_MODEL_bfa24e2b7c704397adcc8c27349764e3",
       "IPY_MODEL_b853389df8ee481bb795cda4283da5ca",
       "IPY_MODEL_0ade3266f35f44e1929a09f5a6afa20c"
      ],
      "layout": "IPY_MODEL_ccc980aa4c8b44c58c09b89ad7a2852c"
     }
    },
    "8375d4367e15417093c2d5a35ee1950b": {
     "model_module": "@jupyter-widgets/controls",
     "model_module_version": "1.5.0",
     "model_name": "VBoxModel",
     "state": {
      "_dom_classes": [
       "widget-interact"
      ],
      "_model_module": "@jupyter-widgets/controls",
      "_model_module_version": "1.5.0",
      "_model_name": "VBoxModel",
      "_view_count": null,
      "_view_module": "@jupyter-widgets/controls",
      "_view_module_version": "1.5.0",
      "_view_name": "VBoxView",
      "box_style": "",
      "children": [
       "IPY_MODEL_c32c7d8e89d14eb1a4e35a8ee93e54b1",
       "IPY_MODEL_bfa24e2b7c704397adcc8c27349764e3",
       "IPY_MODEL_b853389df8ee481bb795cda4283da5ca",
       "IPY_MODEL_9d41deef382d4e36aec21ab6cda3c8aa"
      ],
      "layout": "IPY_MODEL_ab4c376ef41846f7acdd70bb47ad521d"
     }
    },
    "9385a419dd7c4cb6b5ca291232223180": {
     "model_module": "@jupyter-widgets/base",
     "model_module_version": "1.2.0",
     "model_name": "LayoutModel",
     "state": {
      "_model_module": "@jupyter-widgets/base",
      "_model_module_version": "1.2.0",
      "_model_name": "LayoutModel",
      "_view_count": null,
      "_view_module": "@jupyter-widgets/base",
      "_view_module_version": "1.2.0",
      "_view_name": "LayoutView",
      "align_content": null,
      "align_items": null,
      "align_self": null,
      "border": null,
      "bottom": null,
      "display": null,
      "flex": null,
      "flex_flow": null,
      "grid_area": null,
      "grid_auto_columns": null,
      "grid_auto_flow": null,
      "grid_auto_rows": null,
      "grid_column": null,
      "grid_gap": null,
      "grid_row": null,
      "grid_template_areas": null,
      "grid_template_columns": null,
      "grid_template_rows": null,
      "height": null,
      "justify_content": null,
      "justify_items": null,
      "left": null,
      "margin": null,
      "max_height": null,
      "max_width": null,
      "min_height": null,
      "min_width": null,
      "object_fit": null,
      "object_position": null,
      "order": null,
      "overflow": null,
      "overflow_x": null,
      "overflow_y": null,
      "padding": null,
      "right": null,
      "top": null,
      "visibility": null,
      "width": null
     }
    },
    "9d41deef382d4e36aec21ab6cda3c8aa": {
     "model_module": "@jupyter-widgets/output",
     "model_module_version": "1.0.0",
     "model_name": "OutputModel",
     "state": {
      "_dom_classes": [],
      "_model_module": "@jupyter-widgets/output",
      "_model_module_version": "1.0.0",
      "_model_name": "OutputModel",
      "_view_count": null,
      "_view_module": "@jupyter-widgets/output",
      "_view_module_version": "1.0.0",
      "_view_name": "OutputView",
      "layout": "IPY_MODEL_fa489b707fad49f2887b676c1517e3de",
      "msg_id": "",
      "outputs": [
       {
        "data": {
         "image/png": "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\n",
         "text/plain": "<Figure size 432x288 with 1 Axes>"
        },
        "metadata": {},
        "output_type": "display_data"
       }
      ]
     }
    },
    "9ef3602880a940248e53e247c5591e28": {
     "model_module": "@jupyter-widgets/controls",
     "model_module_version": "1.5.0",
     "model_name": "SliderStyleModel",
     "state": {
      "_model_module": "@jupyter-widgets/controls",
      "_model_module_version": "1.5.0",
      "_model_name": "SliderStyleModel",
      "_view_count": null,
      "_view_module": "@jupyter-widgets/base",
      "_view_module_version": "1.2.0",
      "_view_name": "StyleView",
      "description_width": "",
      "handle_color": null
     }
    },
    "9f9ac06ca0b14de6b21330d7c21a76c8": {
     "model_module": "@jupyter-widgets/base",
     "model_module_version": "1.2.0",
     "model_name": "LayoutModel",
     "state": {
      "_model_module": "@jupyter-widgets/base",
      "_model_module_version": "1.2.0",
      "_model_name": "LayoutModel",
      "_view_count": null,
      "_view_module": "@jupyter-widgets/base",
      "_view_module_version": "1.2.0",
      "_view_name": "LayoutView",
      "align_content": null,
      "align_items": null,
      "align_self": null,
      "border": null,
      "bottom": null,
      "display": null,
      "flex": null,
      "flex_flow": null,
      "grid_area": null,
      "grid_auto_columns": null,
      "grid_auto_flow": null,
      "grid_auto_rows": null,
      "grid_column": null,
      "grid_gap": null,
      "grid_row": null,
      "grid_template_areas": null,
      "grid_template_columns": null,
      "grid_template_rows": null,
      "height": null,
      "justify_content": null,
      "justify_items": null,
      "left": null,
      "margin": null,
      "max_height": null,
      "max_width": null,
      "min_height": null,
      "min_width": null,
      "object_fit": null,
      "object_position": null,
      "order": null,
      "overflow": null,
      "overflow_x": null,
      "overflow_y": null,
      "padding": null,
      "right": null,
      "top": null,
      "visibility": null,
      "width": null
     }
    },
    "ab4c376ef41846f7acdd70bb47ad521d": {
     "model_module": "@jupyter-widgets/base",
     "model_module_version": "1.2.0",
     "model_name": "LayoutModel",
     "state": {
      "_model_module": "@jupyter-widgets/base",
      "_model_module_version": "1.2.0",
      "_model_name": "LayoutModel",
      "_view_count": null,
      "_view_module": "@jupyter-widgets/base",
      "_view_module_version": "1.2.0",
      "_view_name": "LayoutView",
      "align_content": null,
      "align_items": null,
      "align_self": null,
      "border": null,
      "bottom": null,
      "display": null,
      "flex": null,
      "flex_flow": null,
      "grid_area": null,
      "grid_auto_columns": null,
      "grid_auto_flow": null,
      "grid_auto_rows": null,
      "grid_column": null,
      "grid_gap": null,
      "grid_row": null,
      "grid_template_areas": null,
      "grid_template_columns": null,
      "grid_template_rows": null,
      "height": null,
      "justify_content": null,
      "justify_items": null,
      "left": null,
      "margin": null,
      "max_height": null,
      "max_width": null,
      "min_height": null,
      "min_width": null,
      "object_fit": null,
      "object_position": null,
      "order": null,
      "overflow": null,
      "overflow_x": null,
      "overflow_y": null,
      "padding": null,
      "right": null,
      "top": null,
      "visibility": null,
      "width": null
     }
    },
    "b853389df8ee481bb795cda4283da5ca": {
     "model_module": "@jupyter-widgets/controls",
     "model_module_version": "1.5.0",
     "model_name": "FloatSliderModel",
     "state": {
      "_dom_classes": [],
      "_model_module": "@jupyter-widgets/controls",
      "_model_module_version": "1.5.0",
      "_model_name": "FloatSliderModel",
      "_view_count": null,
      "_view_module": "@jupyter-widgets/controls",
      "_view_module_version": "1.5.0",
      "_view_name": "FloatSliderView",
      "continuous_update": false,
      "description": "pKa3",
      "description_tooltip": null,
      "disabled": false,
      "layout": "IPY_MODEL_358df6f5708d4eedafe8e369f5f97d14",
      "max": 14,
      "min": 0,
      "orientation": "horizontal",
      "readout": true,
      "readout_format": ".2f",
      "step": 0.5,
      "style": "IPY_MODEL_d69b43b1798a4c29a188e91e27e249ea",
      "value": 0
     }
    },
    "bd0056691ca0434398f8156db36234fa": {
     "model_module": "@jupyter-widgets/base",
     "model_module_version": "1.2.0",
     "model_name": "LayoutModel",
     "state": {
      "_model_module": "@jupyter-widgets/base",
      "_model_module_version": "1.2.0",
      "_model_name": "LayoutModel",
      "_view_count": null,
      "_view_module": "@jupyter-widgets/base",
      "_view_module_version": "1.2.0",
      "_view_name": "LayoutView",
      "align_content": null,
      "align_items": null,
      "align_self": null,
      "border": null,
      "bottom": null,
      "display": null,
      "flex": null,
      "flex_flow": null,
      "grid_area": null,
      "grid_auto_columns": null,
      "grid_auto_flow": null,
      "grid_auto_rows": null,
      "grid_column": null,
      "grid_gap": null,
      "grid_row": null,
      "grid_template_areas": null,
      "grid_template_columns": null,
      "grid_template_rows": null,
      "height": null,
      "justify_content": null,
      "justify_items": null,
      "left": null,
      "margin": null,
      "max_height": null,
      "max_width": null,
      "min_height": null,
      "min_width": null,
      "object_fit": null,
      "object_position": null,
      "order": null,
      "overflow": null,
      "overflow_x": null,
      "overflow_y": null,
      "padding": null,
      "right": null,
      "top": null,
      "visibility": null,
      "width": null
     }
    },
    "bfa24e2b7c704397adcc8c27349764e3": {
     "model_module": "@jupyter-widgets/controls",
     "model_module_version": "1.5.0",
     "model_name": "FloatSliderModel",
     "state": {
      "_dom_classes": [],
      "_model_module": "@jupyter-widgets/controls",
      "_model_module_version": "1.5.0",
      "_model_name": "FloatSliderModel",
      "_view_count": null,
      "_view_module": "@jupyter-widgets/controls",
      "_view_module_version": "1.5.0",
      "_view_name": "FloatSliderView",
      "continuous_update": false,
      "description": "pKa2",
      "description_tooltip": null,
      "disabled": false,
      "layout": "IPY_MODEL_58acb71eb2a64fa88a51237609d218c3",
      "max": 14,
      "min": 0,
      "orientation": "horizontal",
      "readout": true,
      "readout_format": ".2f",
      "step": 0.5,
      "style": "IPY_MODEL_026857eac8b041bf9830d657ee9a7a46",
      "value": 0
     }
    },
    "c32c7d8e89d14eb1a4e35a8ee93e54b1": {
     "model_module": "@jupyter-widgets/controls",
     "model_module_version": "1.5.0",
     "model_name": "FloatSliderModel",
     "state": {
      "_dom_classes": [],
      "_model_module": "@jupyter-widgets/controls",
      "_model_module_version": "1.5.0",
      "_model_name": "FloatSliderModel",
      "_view_count": null,
      "_view_module": "@jupyter-widgets/controls",
      "_view_module_version": "1.5.0",
      "_view_name": "FloatSliderView",
      "continuous_update": false,
      "description": "pKa1",
      "description_tooltip": null,
      "disabled": false,
      "layout": "IPY_MODEL_08584be43d474ec2977cf66ff84ebd2e",
      "max": 14,
      "min": 0,
      "orientation": "horizontal",
      "readout": true,
      "readout_format": ".2f",
      "step": 0.5,
      "style": "IPY_MODEL_03782fac005c435eb998c8637c0ad432",
      "value": 0
     }
    },
    "ccc980aa4c8b44c58c09b89ad7a2852c": {
     "model_module": "@jupyter-widgets/base",
     "model_module_version": "1.2.0",
     "model_name": "LayoutModel",
     "state": {
      "_model_module": "@jupyter-widgets/base",
      "_model_module_version": "1.2.0",
      "_model_name": "LayoutModel",
      "_view_count": null,
      "_view_module": "@jupyter-widgets/base",
      "_view_module_version": "1.2.0",
      "_view_name": "LayoutView",
      "align_content": null,
      "align_items": null,
      "align_self": null,
      "border": null,
      "bottom": null,
      "display": null,
      "flex": null,
      "flex_flow": null,
      "grid_area": null,
      "grid_auto_columns": null,
      "grid_auto_flow": null,
      "grid_auto_rows": null,
      "grid_column": null,
      "grid_gap": null,
      "grid_row": null,
      "grid_template_areas": null,
      "grid_template_columns": null,
      "grid_template_rows": null,
      "height": null,
      "justify_content": null,
      "justify_items": null,
      "left": null,
      "margin": null,
      "max_height": null,
      "max_width": null,
      "min_height": null,
      "min_width": null,
      "object_fit": null,
      "object_position": null,
      "order": null,
      "overflow": null,
      "overflow_x": null,
      "overflow_y": null,
      "padding": null,
      "right": null,
      "top": null,
      "visibility": null,
      "width": null
     }
    },
    "cdb767affca745c7a6f06606ba7ce35d": {
     "model_module": "@jupyter-widgets/controls",
     "model_module_version": "1.5.0",
     "model_name": "SliderStyleModel",
     "state": {
      "_model_module": "@jupyter-widgets/controls",
      "_model_module_version": "1.5.0",
      "_model_name": "SliderStyleModel",
      "_view_count": null,
      "_view_module": "@jupyter-widgets/base",
      "_view_module_version": "1.2.0",
      "_view_name": "StyleView",
      "description_width": "initial",
      "handle_color": null
     }
    },
    "d69b43b1798a4c29a188e91e27e249ea": {
     "model_module": "@jupyter-widgets/controls",
     "model_module_version": "1.5.0",
     "model_name": "SliderStyleModel",
     "state": {
      "_model_module": "@jupyter-widgets/controls",
      "_model_module_version": "1.5.0",
      "_model_name": "SliderStyleModel",
      "_view_count": null,
      "_view_module": "@jupyter-widgets/base",
      "_view_module_version": "1.2.0",
      "_view_name": "StyleView",
      "description_width": "initial",
      "handle_color": null
     }
    },
    "e268a3fa8517413294b6575443a321ad": {
     "model_module": "@jupyter-widgets/controls",
     "model_module_version": "1.5.0",
     "model_name": "SliderStyleModel",
     "state": {
      "_model_module": "@jupyter-widgets/controls",
      "_model_module_version": "1.5.0",
      "_model_name": "SliderStyleModel",
      "_view_count": null,
      "_view_module": "@jupyter-widgets/base",
      "_view_module_version": "1.2.0",
      "_view_name": "StyleView",
      "description_width": "",
      "handle_color": null
     }
    },
    "f50ee86fd41e4f6d8102b78b7780e11e": {
     "model_module": "@jupyter-widgets/controls",
     "model_module_version": "1.5.0",
     "model_name": "FloatSliderModel",
     "state": {
      "_dom_classes": [],
      "_model_module": "@jupyter-widgets/controls",
      "_model_module_version": "1.5.0",
      "_model_name": "FloatSliderModel",
      "_view_count": null,
      "_view_module": "@jupyter-widgets/controls",
      "_view_module_version": "1.5.0",
      "_view_name": "FloatSliderView",
      "continuous_update": true,
      "description": "",
      "description_tooltip": null,
      "disabled": false,
      "layout": "IPY_MODEL_fb716aed66e049488ad3bef2857c7e85",
      "max": 100,
      "min": 0,
      "orientation": "horizontal",
      "readout": true,
      "readout_format": ".2f",
      "step": 0.1,
      "style": "IPY_MODEL_e268a3fa8517413294b6575443a321ad",
      "value": 0
     }
    },
    "fa489b707fad49f2887b676c1517e3de": {
     "model_module": "@jupyter-widgets/base",
     "model_module_version": "1.2.0",
     "model_name": "LayoutModel",
     "state": {
      "_model_module": "@jupyter-widgets/base",
      "_model_module_version": "1.2.0",
      "_model_name": "LayoutModel",
      "_view_count": null,
      "_view_module": "@jupyter-widgets/base",
      "_view_module_version": "1.2.0",
      "_view_name": "LayoutView",
      "align_content": null,
      "align_items": null,
      "align_self": null,
      "border": null,
      "bottom": null,
      "display": null,
      "flex": null,
      "flex_flow": null,
      "grid_area": null,
      "grid_auto_columns": null,
      "grid_auto_flow": null,
      "grid_auto_rows": null,
      "grid_column": null,
      "grid_gap": null,
      "grid_row": null,
      "grid_template_areas": null,
      "grid_template_columns": null,
      "grid_template_rows": null,
      "height": null,
      "justify_content": null,
      "justify_items": null,
      "left": null,
      "margin": null,
      "max_height": null,
      "max_width": null,
      "min_height": null,
      "min_width": null,
      "object_fit": null,
      "object_position": null,
      "order": null,
      "overflow": null,
      "overflow_x": null,
      "overflow_y": null,
      "padding": null,
      "right": null,
      "top": null,
      "visibility": null,
      "width": null
     }
    },
    "fad0f40fc5284aec84adb2c856732e87": {
     "model_module": "@jupyter-widgets/controls",
     "model_module_version": "1.5.0",
     "model_name": "FloatSliderModel",
     "state": {
      "_dom_classes": [],
      "_model_module": "@jupyter-widgets/controls",
      "_model_module_version": "1.5.0",
      "_model_name": "FloatSliderModel",
      "_view_count": null,
      "_view_module": "@jupyter-widgets/controls",
      "_view_module_version": "1.5.0",
      "_view_name": "FloatSliderView",
      "continuous_update": true,
      "description": "",
      "description_tooltip": null,
      "disabled": false,
      "layout": "IPY_MODEL_1f31f69b603f4db9be48465e105d8999",
      "max": 100,
      "min": 0,
      "orientation": "horizontal",
      "readout": true,
      "readout_format": ".2f",
      "step": 0.1,
      "style": "IPY_MODEL_9ef3602880a940248e53e247c5591e28",
      "value": 0
     }
    },
    "fb716aed66e049488ad3bef2857c7e85": {
     "model_module": "@jupyter-widgets/base",
     "model_module_version": "1.2.0",
     "model_name": "LayoutModel",
     "state": {
      "_model_module": "@jupyter-widgets/base",
      "_model_module_version": "1.2.0",
      "_model_name": "LayoutModel",
      "_view_count": null,
      "_view_module": "@jupyter-widgets/base",
      "_view_module_version": "1.2.0",
      "_view_name": "LayoutView",
      "align_content": null,
      "align_items": null,
      "align_self": null,
      "border": null,
      "bottom": null,
      "display": null,
      "flex": null,
      "flex_flow": null,
      "grid_area": null,
      "grid_auto_columns": null,
      "grid_auto_flow": null,
      "grid_auto_rows": null,
      "grid_column": null,
      "grid_gap": null,
      "grid_row": null,
      "grid_template_areas": null,
      "grid_template_columns": null,
      "grid_template_rows": null,
      "height": null,
      "justify_content": null,
      "justify_items": null,
      "left": null,
      "margin": null,
      "max_height": null,
      "max_width": null,
      "min_height": null,
      "min_width": null,
      "object_fit": null,
      "object_position": null,
      "order": null,
      "overflow": null,
      "overflow_x": null,
      "overflow_y": null,
      "padding": null,
      "right": null,
      "top": null,
      "visibility": null,
      "width": null
     }
    },
    "feb229b55f014eb5a5c2fda8b9e7779b": {
     "model_module": "@jupyter-widgets/controls",
     "model_module_version": "1.5.0",
     "model_name": "FloatSliderModel",
     "state": {
      "_dom_classes": [],
      "_model_module": "@jupyter-widgets/controls",
      "_model_module_version": "1.5.0",
      "_model_name": "FloatSliderModel",
      "_view_count": null,
      "_view_module": "@jupyter-widgets/controls",
      "_view_module_version": "1.5.0",
      "_view_name": "FloatSliderView",
      "continuous_update": false,
      "description": "pKa",
      "description_tooltip": null,
      "disabled": false,
      "layout": "IPY_MODEL_9f9ac06ca0b14de6b21330d7c21a76c8",
      "max": 14,
      "min": 0,
      "orientation": "horizontal",
      "readout": true,
      "readout_format": ".2f",
      "step": 0.5,
      "style": "IPY_MODEL_cdb767affca745c7a6f06606ba7ce35d",
      "value": 0
     }
    }
   }
  }
 },
 "nbformat": 4,
 "nbformat_minor": 1
}